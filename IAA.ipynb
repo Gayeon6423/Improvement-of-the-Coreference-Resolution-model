{
 "cells": [
  {
   "cell_type": "code",
   "execution_count": 3,
   "id": "9b4d7f61",
   "metadata": {},
   "outputs": [],
   "source": [
    "from statsmodels.stats.inter_rater import fleiss_kappa\n",
    "import numpy as np\n",
    "from tqdm import tqdm\n",
    "import pandas as pd\n",
    "import os\n",
    "import ast"
   ]
  },
  {
   "cell_type": "code",
   "execution_count": 9,
   "id": "23ea9d18",
   "metadata": {},
   "outputs": [
    {
     "ename": "FileNotFoundError",
     "evalue": "[Errno 2] No such file or directory: '../../data/NewLitBank_v2/'",
     "output_type": "error",
     "traceback": [
      "\u001b[0;31m---------------------------------------------------------------------------\u001b[0m",
      "\u001b[0;31mFileNotFoundError\u001b[0m                         Traceback (most recent call last)",
      "\u001b[1;32m/home/gayeon39/gayeon/[연구]Coreference Resolution/coref-main/IAA.ipynb 셀 2\u001b[0m line \u001b[0;36m2\n\u001b[1;32m      <a href='vscode-notebook-cell://ssh-remote%2B163.239.28.39/home/gayeon39/gayeon/%5B%EC%97%B0%EA%B5%AC%5DCoreference%20Resolution/coref-main/IAA.ipynb#X23sdnNjb2RlLXJlbW90ZQ%3D%3D?line=0'>1</a>\u001b[0m check_folder_path \u001b[39m=\u001b[39m \u001b[39m'\u001b[39m\u001b[39m../../data/NewLitBank_v2/\u001b[39m\u001b[39m'\u001b[39m\n\u001b[0;32m----> <a href='vscode-notebook-cell://ssh-remote%2B163.239.28.39/home/gayeon39/gayeon/%5B%EC%97%B0%EA%B5%AC%5DCoreference%20Resolution/coref-main/IAA.ipynb#X23sdnNjb2RlLXJlbW90ZQ%3D%3D?line=1'>2</a>\u001b[0m os\u001b[39m.\u001b[39;49mlistdir(check_folder_path)\n",
      "\u001b[0;31mFileNotFoundError\u001b[0m: [Errno 2] No such file or directory: '../../data/NewLitBank_v2/'"
     ]
    }
   ],
   "source": [
    "check_folder_path = '../../data/NewLitBank_v2/'\n",
    "os.listdir(check_folder_path)"
   ]
  },
  {
   "cell_type": "code",
   "execution_count": 6,
   "id": "92e653f1",
   "metadata": {},
   "outputs": [
    {
     "ename": "FileNotFoundError",
     "evalue": "[Errno 2] No such file or directory: '../data/NewLitBank_v2/'",
     "output_type": "error",
     "traceback": [
      "\u001b[0;31m---------------------------------------------------------------------------\u001b[0m",
      "\u001b[0;31mFileNotFoundError\u001b[0m                         Traceback (most recent call last)",
      "\u001b[1;32m/home/gayeon39/gayeon/[연구]Coreference Resolution/coref-main/IAA.ipynb 셀 2\u001b[0m line \u001b[0;36m7\n\u001b[1;32m      <a href='vscode-notebook-cell://ssh-remote%2B163.239.28.39/home/gayeon39/gayeon/%5B%EC%97%B0%EA%B5%AC%5DCoreference%20Resolution/coref-main/IAA.ipynb#W1sdnNjb2RlLXJlbW90ZQ%3D%3D?line=4'>5</a>\u001b[0m LITBANK_INDEX\u001b[39m=\u001b[39m\u001b[39m0\u001b[39m\n\u001b[1;32m      <a href='vscode-notebook-cell://ssh-remote%2B163.239.28.39/home/gayeon39/gayeon/%5B%EC%97%B0%EA%B5%AC%5DCoreference%20Resolution/coref-main/IAA.ipynb#W1sdnNjb2RlLXJlbW90ZQ%3D%3D?line=5'>6</a>\u001b[0m check_folder_path \u001b[39m=\u001b[39m \u001b[39m'\u001b[39m\u001b[39m../data/NewLitBank_v2/\u001b[39m\u001b[39m'\u001b[39m\n\u001b[0;32m----> <a href='vscode-notebook-cell://ssh-remote%2B163.239.28.39/home/gayeon39/gayeon/%5B%EC%97%B0%EA%B5%AC%5DCoreference%20Resolution/coref-main/IAA.ipynb#W1sdnNjb2RlLXJlbW90ZQ%3D%3D?line=6'>7</a>\u001b[0m litbank_file_list \u001b[39m=\u001b[39m \u001b[39msorted\u001b[39m(os\u001b[39m.\u001b[39;49mlistdir(check_folder_path), key\u001b[39m=\u001b[39mextract_number)\n",
      "\u001b[0;31mFileNotFoundError\u001b[0m: [Errno 2] No such file or directory: '../data/NewLitBank_v2/'"
     ]
    }
   ],
   "source": [
    "def extract_number(filename):\n",
    "    return int(filename.split('_')[-1].split('.')[0])\n",
    "\n",
    "PATH = '../data'\n",
    "LITBANK_INDEX=0\n",
    "check_folder_path = '../data/NewLitBank_v2/'\n",
    "litbank_file_list = sorted(os.listdir(check_folder_path), key=extract_number)"
   ]
  },
  {
   "cell_type": "code",
   "execution_count": 62,
   "id": "161a06fd",
   "metadata": {},
   "outputs": [],
   "source": [
    "df_case = pd.read_csv(check_folder_path + '/' + litbank_file_list[LITBANK_INDEX], index_col=0)\n",
    "df_case['coref'] = [ast.literal_eval(data) for data in df_case['coref']]\n",
    "df_case['extracted_sentence'] = [ast.literal_eval(data) for data in df_case['extracted_sentence']]\n",
    "df_case['adjusted_offsets'] = [ast.literal_eval(data) for data in df_case['adjusted_offsets']]\n",
    "df_case['text'] = [ast.literal_eval(data) for data in df_case['text']]\n",
    "df_case['inference_offsets'] = [ast.literal_eval(data) for data in df_case['inference_offsets']]\n",
    "df_case = df_case[df_case['update_text'].notna()].reset_index(drop=True)\n",
    "\n",
    "# Each Persons's Evaluation\n",
    "df_dh = pd.read_csv(PATH + '/NewLitBank_dh/' + litbank_file_list[LITBANK_INDEX], index_col=0)\n",
    "df_js = pd.read_csv(PATH + '/NewLitBank_JS/' + litbank_file_list[LITBANK_INDEX], index_col=0).reset_index(drop=True)\n",
    "df_gy = pd.read_csv(PATH + '/NewLitBank_gy/' + litbank_file_list[LITBANK_INDEX])"
   ]
  },
  {
   "cell_type": "code",
   "execution_count": 50,
   "id": "5f1eed9b",
   "metadata": {},
   "outputs": [],
   "source": [
    "num_classes = 3"
   ]
  },
  {
   "cell_type": "code",
   "execution_count": 64,
   "id": "6d3c9cee",
   "metadata": {},
   "outputs": [],
   "source": [
    "def final_labels(count_matrix):\n",
    "    argmax_labels = []\n",
    "    for row in count_matrix:\n",
    "        # 가장 큰 값의 인덱스들 (tie 가능성 고려)\n",
    "        max_val = np.max(row)\n",
    "        max_indices = np.where(row == max_val)[0]\n",
    "\n",
    "        if len(max_indices) == 1:\n",
    "            argmax_labels.append(max_indices[0])  # 유일한 최댓값이면 그 index\n",
    "        else:\n",
    "            argmax_labels.append(1)\n",
    "    return argmax_labels"
   ]
  },
  {
   "cell_type": "code",
   "execution_count": null,
   "id": "203ff158",
   "metadata": {},
   "outputs": [
    {
     "name": "stderr",
     "output_type": "stream",
     "text": [
      "100%|██████████| 80/80 [00:01<00:00, 66.47it/s]\n"
     ]
    }
   ],
   "source": [
    "total_count_matrix = []\n",
    "for idx in tqdm(range(80)):\n",
    "    df_case = pd.read_csv(check_folder_path + '/' + litbank_file_list[idx], index_col=0)\n",
    "    df_case['coref'] = [ast.literal_eval(data) for data in df_case['coref']]\n",
    "    df_case['extracted_sentence'] = [ast.literal_eval(data) for data in df_case['extracted_sentence']]\n",
    "    df_case['adjusted_offsets'] = [ast.literal_eval(data) for data in df_case['adjusted_offsets']]\n",
    "    df_case['text'] = [ast.literal_eval(data) for data in df_case['text']]\n",
    "    df_case['inference_offsets'] = [ast.literal_eval(data) for data in df_case['inference_offsets']]\n",
    "    df_case = df_case[df_case['update_text'].notna()].reset_index(drop=True)\n",
    "    df_dh = pd.read_csv(PATH + '/NewLitBank_dh/' + litbank_file_list[idx], index_col=0)\n",
    "    df_js = pd.read_csv(PATH + '/NewLitBank_JS/' + litbank_file_list[idx], index_col=0).reset_index(drop=True)\n",
    "    df_gy = pd.read_csv(PATH + '/NewLitBank_gy/' + litbank_file_list[idx])\n",
    "    annotators = [df_dh, df_js, df_gy]\n",
    "    num_cases = len(df_dh)\n",
    "    count_matrix = np.zeros((num_cases, num_classes), dtype=int)\n",
    "    for df in annotators:\n",
    "        if len(df['cases'])==0: \n",
    "            break\n",
    "        for i, label in enumerate(df['cases']):\n",
    "            count_matrix[i, label] += 1\n",
    "    df_case['cases'] = final_labels(count_matrix)\n",
    "    df_case.to_csv('../data/NewLitBank_ECAI/' + litbank_file_list[idx])\n",
    "    total_count_matrix.append(count_matrix)"
   ]
  },
  {
   "cell_type": "code",
   "execution_count": 77,
   "id": "14f86034",
   "metadata": {},
   "outputs": [
    {
     "data": {
      "text/plain": [
       "array([[1, 2, 0],\n",
       "       [3, 0, 0],\n",
       "       [3, 0, 0],\n",
       "       ...,\n",
       "       [1, 2, 0],\n",
       "       [3, 0, 0],\n",
       "       [1, 2, 0]])"
      ]
     },
     "execution_count": 77,
     "metadata": {},
     "output_type": "execute_result"
    }
   ],
   "source": [
    "total_count_matrix"
   ]
  },
  {
   "cell_type": "code",
   "execution_count": 76,
   "id": "a8cd2d5d",
   "metadata": {},
   "outputs": [],
   "source": [
    "total_count_matrix = np.vstack(total_count_matrix)"
   ]
  },
  {
   "cell_type": "code",
   "execution_count": 79,
   "id": "a4cbc2b2",
   "metadata": {},
   "outputs": [],
   "source": [
    "kappa = fleiss_kappa(total_count_matrix)"
   ]
  },
  {
   "cell_type": "code",
   "execution_count": 81,
   "id": "4bdd914e",
   "metadata": {},
   "outputs": [
    {
     "name": "stdout",
     "output_type": "stream",
     "text": [
      "Fleiss' Kappa: 0.4630\n"
     ]
    }
   ],
   "source": [
    "print(f\"Fleiss' Kappa: {kappa:.4f}\")"
   ]
  }
 ],
 "metadata": {
  "kernelspec": {
   "display_name": "coref39",
   "language": "python",
   "name": "python3"
  },
  "language_info": {
   "codemirror_mode": {
    "name": "ipython",
    "version": 3
   },
   "file_extension": ".py",
   "mimetype": "text/x-python",
   "name": "python",
   "nbconvert_exporter": "python",
   "pygments_lexer": "ipython3",
   "version": "3.9.0"
  }
 },
 "nbformat": 4,
 "nbformat_minor": 5
}
